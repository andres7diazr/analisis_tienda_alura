{
  "nbformat": 4,
  "nbformat_minor": 0,
  "metadata": {
    "colab": {
      "provenance": []
    },
    "kernelspec": {
      "name": "python3",
      "display_name": "Python 3"
    },
    "language_info": {
      "name": "python"
    }
  },
  "cells": [
    {
      "cell_type": "markdown",
      "source": [
        "### Importación de datos\n",
        "\n"
      ],
      "metadata": {
        "id": "RhEdWd9YUR6H"
      }
    },
    {
      "cell_type": "code",
      "execution_count": null,
      "metadata": {
        "colab": {
          "base_uri": "https://localhost:8080/",
          "height": 380
        },
        "id": "T3EvaeQ_INIL",
        "outputId": "7ca905ef-5909-4049-bb34-fb1362f457ae"
      },
      "outputs": [
        {
          "output_type": "execute_result",
          "data": {
            "text/plain": [
              "            Producto Categoría del Producto    Precio  Costo de envío  \\\n",
              "0  Asistente virtual           Electrónicos  164300.0          6900.0   \n",
              "1    Mesa de comedor                Muebles  192300.0          8400.0   \n",
              "2      Juego de mesa               Juguetes  209600.0         15900.0   \n",
              "3         Microondas      Electrodomésticos  757500.0         41000.0   \n",
              "4   Silla de oficina                Muebles  335200.0         20200.0   \n",
              "\n",
              "  Fecha de Compra         Vendedor Lugar de Compra  Calificación  \\\n",
              "0      16/01/2021      Pedro Gomez          Bogotá             4   \n",
              "1      18/05/2022  Beatriz Morales        Medellín             1   \n",
              "2      15/03/2021   Juan Fernandez       Cartagena             1   \n",
              "3      03/05/2022   Juan Fernandez            Cali             4   \n",
              "4      07/11/2020    Maria Alfonso        Medellín             5   \n",
              "\n",
              "       Método de pago  Cantidad de cuotas       lat       lon  \n",
              "0  Tarjeta de crédito                   8   4.60971 -74.08175  \n",
              "1  Tarjeta de crédito                   4   6.25184 -75.56359  \n",
              "2  Tarjeta de crédito                   1  10.39972 -75.51444  \n",
              "3               Nequi                   1   3.43722 -76.52250  \n",
              "4               Nequi                   1   6.25184 -75.56359  "
            ],
            "text/html": [
              "\n",
              "  <div id=\"df-bd97be7b-b4b7-4a0a-a88b-0cfdb0269d56\" class=\"colab-df-container\">\n",
              "    <div>\n",
              "<style scoped>\n",
              "    .dataframe tbody tr th:only-of-type {\n",
              "        vertical-align: middle;\n",
              "    }\n",
              "\n",
              "    .dataframe tbody tr th {\n",
              "        vertical-align: top;\n",
              "    }\n",
              "\n",
              "    .dataframe thead th {\n",
              "        text-align: right;\n",
              "    }\n",
              "</style>\n",
              "<table border=\"1\" class=\"dataframe\">\n",
              "  <thead>\n",
              "    <tr style=\"text-align: right;\">\n",
              "      <th></th>\n",
              "      <th>Producto</th>\n",
              "      <th>Categoría del Producto</th>\n",
              "      <th>Precio</th>\n",
              "      <th>Costo de envío</th>\n",
              "      <th>Fecha de Compra</th>\n",
              "      <th>Vendedor</th>\n",
              "      <th>Lugar de Compra</th>\n",
              "      <th>Calificación</th>\n",
              "      <th>Método de pago</th>\n",
              "      <th>Cantidad de cuotas</th>\n",
              "      <th>lat</th>\n",
              "      <th>lon</th>\n",
              "    </tr>\n",
              "  </thead>\n",
              "  <tbody>\n",
              "    <tr>\n",
              "      <th>0</th>\n",
              "      <td>Asistente virtual</td>\n",
              "      <td>Electrónicos</td>\n",
              "      <td>164300.0</td>\n",
              "      <td>6900.0</td>\n",
              "      <td>16/01/2021</td>\n",
              "      <td>Pedro Gomez</td>\n",
              "      <td>Bogotá</td>\n",
              "      <td>4</td>\n",
              "      <td>Tarjeta de crédito</td>\n",
              "      <td>8</td>\n",
              "      <td>4.60971</td>\n",
              "      <td>-74.08175</td>\n",
              "    </tr>\n",
              "    <tr>\n",
              "      <th>1</th>\n",
              "      <td>Mesa de comedor</td>\n",
              "      <td>Muebles</td>\n",
              "      <td>192300.0</td>\n",
              "      <td>8400.0</td>\n",
              "      <td>18/05/2022</td>\n",
              "      <td>Beatriz Morales</td>\n",
              "      <td>Medellín</td>\n",
              "      <td>1</td>\n",
              "      <td>Tarjeta de crédito</td>\n",
              "      <td>4</td>\n",
              "      <td>6.25184</td>\n",
              "      <td>-75.56359</td>\n",
              "    </tr>\n",
              "    <tr>\n",
              "      <th>2</th>\n",
              "      <td>Juego de mesa</td>\n",
              "      <td>Juguetes</td>\n",
              "      <td>209600.0</td>\n",
              "      <td>15900.0</td>\n",
              "      <td>15/03/2021</td>\n",
              "      <td>Juan Fernandez</td>\n",
              "      <td>Cartagena</td>\n",
              "      <td>1</td>\n",
              "      <td>Tarjeta de crédito</td>\n",
              "      <td>1</td>\n",
              "      <td>10.39972</td>\n",
              "      <td>-75.51444</td>\n",
              "    </tr>\n",
              "    <tr>\n",
              "      <th>3</th>\n",
              "      <td>Microondas</td>\n",
              "      <td>Electrodomésticos</td>\n",
              "      <td>757500.0</td>\n",
              "      <td>41000.0</td>\n",
              "      <td>03/05/2022</td>\n",
              "      <td>Juan Fernandez</td>\n",
              "      <td>Cali</td>\n",
              "      <td>4</td>\n",
              "      <td>Nequi</td>\n",
              "      <td>1</td>\n",
              "      <td>3.43722</td>\n",
              "      <td>-76.52250</td>\n",
              "    </tr>\n",
              "    <tr>\n",
              "      <th>4</th>\n",
              "      <td>Silla de oficina</td>\n",
              "      <td>Muebles</td>\n",
              "      <td>335200.0</td>\n",
              "      <td>20200.0</td>\n",
              "      <td>07/11/2020</td>\n",
              "      <td>Maria Alfonso</td>\n",
              "      <td>Medellín</td>\n",
              "      <td>5</td>\n",
              "      <td>Nequi</td>\n",
              "      <td>1</td>\n",
              "      <td>6.25184</td>\n",
              "      <td>-75.56359</td>\n",
              "    </tr>\n",
              "  </tbody>\n",
              "</table>\n",
              "</div>\n",
              "    <div class=\"colab-df-buttons\">\n",
              "\n",
              "  <div class=\"colab-df-container\">\n",
              "    <button class=\"colab-df-convert\" onclick=\"convertToInteractive('df-bd97be7b-b4b7-4a0a-a88b-0cfdb0269d56')\"\n",
              "            title=\"Convert this dataframe to an interactive table.\"\n",
              "            style=\"display:none;\">\n",
              "\n",
              "  <svg xmlns=\"http://www.w3.org/2000/svg\" height=\"24px\" viewBox=\"0 -960 960 960\">\n",
              "    <path d=\"M120-120v-720h720v720H120Zm60-500h600v-160H180v160Zm220 220h160v-160H400v160Zm0 220h160v-160H400v160ZM180-400h160v-160H180v160Zm440 0h160v-160H620v160ZM180-180h160v-160H180v160Zm440 0h160v-160H620v160Z\"/>\n",
              "  </svg>\n",
              "    </button>\n",
              "\n",
              "  <style>\n",
              "    .colab-df-container {\n",
              "      display:flex;\n",
              "      gap: 12px;\n",
              "    }\n",
              "\n",
              "    .colab-df-convert {\n",
              "      background-color: #E8F0FE;\n",
              "      border: none;\n",
              "      border-radius: 50%;\n",
              "      cursor: pointer;\n",
              "      display: none;\n",
              "      fill: #1967D2;\n",
              "      height: 32px;\n",
              "      padding: 0 0 0 0;\n",
              "      width: 32px;\n",
              "    }\n",
              "\n",
              "    .colab-df-convert:hover {\n",
              "      background-color: #E2EBFA;\n",
              "      box-shadow: 0px 1px 2px rgba(60, 64, 67, 0.3), 0px 1px 3px 1px rgba(60, 64, 67, 0.15);\n",
              "      fill: #174EA6;\n",
              "    }\n",
              "\n",
              "    .colab-df-buttons div {\n",
              "      margin-bottom: 4px;\n",
              "    }\n",
              "\n",
              "    [theme=dark] .colab-df-convert {\n",
              "      background-color: #3B4455;\n",
              "      fill: #D2E3FC;\n",
              "    }\n",
              "\n",
              "    [theme=dark] .colab-df-convert:hover {\n",
              "      background-color: #434B5C;\n",
              "      box-shadow: 0px 1px 3px 1px rgba(0, 0, 0, 0.15);\n",
              "      filter: drop-shadow(0px 1px 2px rgba(0, 0, 0, 0.3));\n",
              "      fill: #FFFFFF;\n",
              "    }\n",
              "  </style>\n",
              "\n",
              "    <script>\n",
              "      const buttonEl =\n",
              "        document.querySelector('#df-bd97be7b-b4b7-4a0a-a88b-0cfdb0269d56 button.colab-df-convert');\n",
              "      buttonEl.style.display =\n",
              "        google.colab.kernel.accessAllowed ? 'block' : 'none';\n",
              "\n",
              "      async function convertToInteractive(key) {\n",
              "        const element = document.querySelector('#df-bd97be7b-b4b7-4a0a-a88b-0cfdb0269d56');\n",
              "        const dataTable =\n",
              "          await google.colab.kernel.invokeFunction('convertToInteractive',\n",
              "                                                    [key], {});\n",
              "        if (!dataTable) return;\n",
              "\n",
              "        const docLinkHtml = 'Like what you see? Visit the ' +\n",
              "          '<a target=\"_blank\" href=https://colab.research.google.com/notebooks/data_table.ipynb>data table notebook</a>'\n",
              "          + ' to learn more about interactive tables.';\n",
              "        element.innerHTML = '';\n",
              "        dataTable['output_type'] = 'display_data';\n",
              "        await google.colab.output.renderOutput(dataTable, element);\n",
              "        const docLink = document.createElement('div');\n",
              "        docLink.innerHTML = docLinkHtml;\n",
              "        element.appendChild(docLink);\n",
              "      }\n",
              "    </script>\n",
              "  </div>\n",
              "\n",
              "\n",
              "    <div id=\"df-dab74fe6-5d9c-4c0d-9734-7abcc0f39d34\">\n",
              "      <button class=\"colab-df-quickchart\" onclick=\"quickchart('df-dab74fe6-5d9c-4c0d-9734-7abcc0f39d34')\"\n",
              "                title=\"Suggest charts\"\n",
              "                style=\"display:none;\">\n",
              "\n",
              "<svg xmlns=\"http://www.w3.org/2000/svg\" height=\"24px\"viewBox=\"0 0 24 24\"\n",
              "     width=\"24px\">\n",
              "    <g>\n",
              "        <path d=\"M19 3H5c-1.1 0-2 .9-2 2v14c0 1.1.9 2 2 2h14c1.1 0 2-.9 2-2V5c0-1.1-.9-2-2-2zM9 17H7v-7h2v7zm4 0h-2V7h2v10zm4 0h-2v-4h2v4z\"/>\n",
              "    </g>\n",
              "</svg>\n",
              "      </button>\n",
              "\n",
              "<style>\n",
              "  .colab-df-quickchart {\n",
              "      --bg-color: #E8F0FE;\n",
              "      --fill-color: #1967D2;\n",
              "      --hover-bg-color: #E2EBFA;\n",
              "      --hover-fill-color: #174EA6;\n",
              "      --disabled-fill-color: #AAA;\n",
              "      --disabled-bg-color: #DDD;\n",
              "  }\n",
              "\n",
              "  [theme=dark] .colab-df-quickchart {\n",
              "      --bg-color: #3B4455;\n",
              "      --fill-color: #D2E3FC;\n",
              "      --hover-bg-color: #434B5C;\n",
              "      --hover-fill-color: #FFFFFF;\n",
              "      --disabled-bg-color: #3B4455;\n",
              "      --disabled-fill-color: #666;\n",
              "  }\n",
              "\n",
              "  .colab-df-quickchart {\n",
              "    background-color: var(--bg-color);\n",
              "    border: none;\n",
              "    border-radius: 50%;\n",
              "    cursor: pointer;\n",
              "    display: none;\n",
              "    fill: var(--fill-color);\n",
              "    height: 32px;\n",
              "    padding: 0;\n",
              "    width: 32px;\n",
              "  }\n",
              "\n",
              "  .colab-df-quickchart:hover {\n",
              "    background-color: var(--hover-bg-color);\n",
              "    box-shadow: 0 1px 2px rgba(60, 64, 67, 0.3), 0 1px 3px 1px rgba(60, 64, 67, 0.15);\n",
              "    fill: var(--button-hover-fill-color);\n",
              "  }\n",
              "\n",
              "  .colab-df-quickchart-complete:disabled,\n",
              "  .colab-df-quickchart-complete:disabled:hover {\n",
              "    background-color: var(--disabled-bg-color);\n",
              "    fill: var(--disabled-fill-color);\n",
              "    box-shadow: none;\n",
              "  }\n",
              "\n",
              "  .colab-df-spinner {\n",
              "    border: 2px solid var(--fill-color);\n",
              "    border-color: transparent;\n",
              "    border-bottom-color: var(--fill-color);\n",
              "    animation:\n",
              "      spin 1s steps(1) infinite;\n",
              "  }\n",
              "\n",
              "  @keyframes spin {\n",
              "    0% {\n",
              "      border-color: transparent;\n",
              "      border-bottom-color: var(--fill-color);\n",
              "      border-left-color: var(--fill-color);\n",
              "    }\n",
              "    20% {\n",
              "      border-color: transparent;\n",
              "      border-left-color: var(--fill-color);\n",
              "      border-top-color: var(--fill-color);\n",
              "    }\n",
              "    30% {\n",
              "      border-color: transparent;\n",
              "      border-left-color: var(--fill-color);\n",
              "      border-top-color: var(--fill-color);\n",
              "      border-right-color: var(--fill-color);\n",
              "    }\n",
              "    40% {\n",
              "      border-color: transparent;\n",
              "      border-right-color: var(--fill-color);\n",
              "      border-top-color: var(--fill-color);\n",
              "    }\n",
              "    60% {\n",
              "      border-color: transparent;\n",
              "      border-right-color: var(--fill-color);\n",
              "    }\n",
              "    80% {\n",
              "      border-color: transparent;\n",
              "      border-right-color: var(--fill-color);\n",
              "      border-bottom-color: var(--fill-color);\n",
              "    }\n",
              "    90% {\n",
              "      border-color: transparent;\n",
              "      border-bottom-color: var(--fill-color);\n",
              "    }\n",
              "  }\n",
              "</style>\n",
              "\n",
              "      <script>\n",
              "        async function quickchart(key) {\n",
              "          const quickchartButtonEl =\n",
              "            document.querySelector('#' + key + ' button');\n",
              "          quickchartButtonEl.disabled = true;  // To prevent multiple clicks.\n",
              "          quickchartButtonEl.classList.add('colab-df-spinner');\n",
              "          try {\n",
              "            const charts = await google.colab.kernel.invokeFunction(\n",
              "                'suggestCharts', [key], {});\n",
              "          } catch (error) {\n",
              "            console.error('Error during call to suggestCharts:', error);\n",
              "          }\n",
              "          quickchartButtonEl.classList.remove('colab-df-spinner');\n",
              "          quickchartButtonEl.classList.add('colab-df-quickchart-complete');\n",
              "        }\n",
              "        (() => {\n",
              "          let quickchartButtonEl =\n",
              "            document.querySelector('#df-dab74fe6-5d9c-4c0d-9734-7abcc0f39d34 button');\n",
              "          quickchartButtonEl.style.display =\n",
              "            google.colab.kernel.accessAllowed ? 'block' : 'none';\n",
              "        })();\n",
              "      </script>\n",
              "    </div>\n",
              "\n",
              "    </div>\n",
              "  </div>\n"
            ],
            "application/vnd.google.colaboratory.intrinsic+json": {
              "type": "dataframe",
              "variable_name": "tienda",
              "summary": "{\n  \"name\": \"tienda\",\n  \"rows\": 2359,\n  \"fields\": [\n    {\n      \"column\": \"Producto\",\n      \"properties\": {\n        \"dtype\": \"category\",\n        \"num_unique_values\": 51,\n        \"samples\": [\n          \"Guitarra ac\\u00fastica\",\n          \"Bal\\u00f3n de baloncesto\",\n          \"Smartwatch\"\n        ],\n        \"semantic_type\": \"\",\n        \"description\": \"\"\n      }\n    },\n    {\n      \"column\": \"Categor\\u00eda del Producto\",\n      \"properties\": {\n        \"dtype\": \"category\",\n        \"num_unique_values\": 8,\n        \"samples\": [\n          \"Muebles\",\n          \"Deportes y diversi\\u00f3n\",\n          \"Electr\\u00f3nicos\"\n        ],\n        \"semantic_type\": \"\",\n        \"description\": \"\"\n      }\n    },\n    {\n      \"column\": \"Precio\",\n      \"properties\": {\n        \"dtype\": \"number\",\n        \"std\": 614686.7653873172,\n        \"min\": 7600.0,\n        \"max\": 2977000.0,\n        \"num_unique_values\": 1937,\n        \"samples\": [\n          2499400.0,\n          14800.0,\n          80500.0\n        ],\n        \"semantic_type\": \"\",\n        \"description\": \"\"\n      }\n    },\n    {\n      \"column\": \"Costo de env\\u00edo\",\n      \"properties\": {\n        \"dtype\": \"number\",\n        \"std\": 32860.0017825605,\n        \"min\": 0.0,\n        \"max\": 160800.0,\n        \"num_unique_values\": 753,\n        \"samples\": [\n          117800.0,\n          54700.0,\n          45600.0\n        ],\n        \"semantic_type\": \"\",\n        \"description\": \"\"\n      }\n    },\n    {\n      \"column\": \"Fecha de Compra\",\n      \"properties\": {\n        \"dtype\": \"object\",\n        \"num_unique_values\": 1018,\n        \"samples\": [\n          \"15/09/2022\",\n          \"03/06/2020\",\n          \"06/11/2021\"\n        ],\n        \"semantic_type\": \"\",\n        \"description\": \"\"\n      }\n    },\n    {\n      \"column\": \"Vendedor\",\n      \"properties\": {\n        \"dtype\": \"category\",\n        \"num_unique_values\": 14,\n        \"samples\": [\n          \"Juliana Costa\",\n          \"Mariana Herrera\",\n          \"Pedro Gomez\"\n        ],\n        \"semantic_type\": \"\",\n        \"description\": \"\"\n      }\n    },\n    {\n      \"column\": \"Lugar de Compra\",\n      \"properties\": {\n        \"dtype\": \"category\",\n        \"num_unique_values\": 19,\n        \"samples\": [\n          \"Bogot\\u00e1\",\n          \"Pereira\",\n          \"Neiva\"\n        ],\n        \"semantic_type\": \"\",\n        \"description\": \"\"\n      }\n    },\n    {\n      \"column\": \"Calificaci\\u00f3n\",\n      \"properties\": {\n        \"dtype\": \"number\",\n        \"std\": 1,\n        \"min\": 1,\n        \"max\": 5,\n        \"num_unique_values\": 5,\n        \"samples\": [\n          1,\n          2,\n          5\n        ],\n        \"semantic_type\": \"\",\n        \"description\": \"\"\n      }\n    },\n    {\n      \"column\": \"M\\u00e9todo de pago\",\n      \"properties\": {\n        \"dtype\": \"category\",\n        \"num_unique_values\": 4,\n        \"samples\": [\n          \"Nequi\",\n          \"Tarjeta de d\\u00e9bito\",\n          \"Tarjeta de cr\\u00e9dito\"\n        ],\n        \"semantic_type\": \"\",\n        \"description\": \"\"\n      }\n    },\n    {\n      \"column\": \"Cantidad de cuotas\",\n      \"properties\": {\n        \"dtype\": \"number\",\n        \"std\": 2,\n        \"min\": 1,\n        \"max\": 24,\n        \"num_unique_values\": 15,\n        \"samples\": [\n          7,\n          14,\n          8\n        ],\n        \"semantic_type\": \"\",\n        \"description\": \"\"\n      }\n    },\n    {\n      \"column\": \"lat\",\n      \"properties\": {\n        \"dtype\": \"number\",\n        \"std\": 2.2874452492678627,\n        \"min\": -4.21528,\n        \"max\": 11.54444,\n        \"num_unique_values\": 19,\n        \"samples\": [\n          4.60971,\n          4.81333,\n          2.9273\n        ],\n        \"semantic_type\": \"\",\n        \"description\": \"\"\n      }\n    },\n    {\n      \"column\": \"lon\",\n      \"properties\": {\n        \"dtype\": \"number\",\n        \"std\": 1.2178272727088486,\n        \"min\": -77.28111,\n        \"max\": -67.9239,\n        \"num_unique_values\": 19,\n        \"samples\": [\n          -74.08175,\n          -75.69611,\n          -75.28189\n        ],\n        \"semantic_type\": \"\",\n        \"description\": \"\"\n      }\n    }\n  ]\n}"
            }
          },
          "metadata": {},
          "execution_count": 35
        }
      ],
      "source": [
        "import pandas as pd\n",
        "import matplotlib.pyplot as plt\n",
        "import numpy as np\n",
        "\n",
        "url = \"https://raw.githubusercontent.com/alura-es-cursos/challenge1-data-science-latam/refs/heads/main/base-de-datos-challenge1-latam/tienda_1%20.csv\"\n",
        "url2 = \"https://raw.githubusercontent.com/alura-es-cursos/challenge1-data-science-latam/refs/heads/main/base-de-datos-challenge1-latam/tienda_2.csv\"\n",
        "url3 = \"https://raw.githubusercontent.com/alura-es-cursos/challenge1-data-science-latam/refs/heads/main/base-de-datos-challenge1-latam/tienda_3.csv\"\n",
        "url4 = \"https://raw.githubusercontent.com/alura-es-cursos/challenge1-data-science-latam/refs/heads/main/base-de-datos-challenge1-latam/tienda_4.csv\"\n",
        "\n",
        "tienda = pd.read_csv(url)\n",
        "tienda2 = pd.read_csv(url2)\n",
        "tienda3 = pd.read_csv(url3)\n",
        "tienda4 = pd.read_csv(url4)\n",
        "\n",
        "tienda.head()"
      ]
    },
    {
      "cell_type": "markdown",
      "source": [
        "#1. Análisis de facturación\n",
        "\n"
      ],
      "metadata": {
        "id": "X62IW3KFUIYm"
      }
    },
    {
      "cell_type": "code",
      "source": [
        "print(\"Tienda 1\")\n",
        "sumatoria_tienda = sum(tienda.Precio)\n",
        "print(sumatoria_tienda)\n",
        "\n",
        "print(\"Tienda 2\")\n",
        "sumatoria_tienda2 = sum(tienda2.Precio)\n",
        "print(sumatoria_tienda2)\n",
        "\n",
        "print(\"Tienda 3\")\n",
        "sumatoria_tienda3 = sum(tienda3.Precio)\n",
        "print(sumatoria_tienda3)\n",
        "\n",
        "print(\"Tienda 4\")\n",
        "sumatoria_tienda4 = sum(tienda4.Precio)\n",
        "print(sumatoria_tienda4)"
      ],
      "metadata": {
        "id": "xykobSftV64I",
        "colab": {
          "base_uri": "https://localhost:8080/"
        },
        "outputId": "e54866db-0848-4917-aa30-b9c8af348258"
      },
      "execution_count": null,
      "outputs": [
        {
          "output_type": "stream",
          "name": "stdout",
          "text": [
            "Tienda 1\n",
            "1150880400.0\n",
            "Tienda 2\n",
            "1116343500.0\n",
            "Tienda 3\n",
            "1098019600.0\n",
            "Tienda 4\n",
            "1038375700.0\n"
          ]
        }
      ]
    },
    {
      "cell_type": "code",
      "source": [
        "tiendas = [\"Tienda 1\",\"Tienda 2\",\"Tienda 3\",\"Tienda 4\"]\n",
        "sumatorias = [sumatoria_tienda,sumatoria_tienda2,sumatoria_tienda3,sumatoria_tienda4]\n",
        "\n",
        "plt.pie(sumatorias,labels=tiendas, autopct=\"%0.1f%%\")\n",
        "plt.axis(\"equal\")\n",
        "plt.show()"
      ],
      "metadata": {
        "id": "KDyr8E71V3m-",
        "colab": {
          "base_uri": "https://localhost:8080/",
          "height": 406
        },
        "outputId": "dbc05b8c-e796-4773-8200-895dd9b8eb86"
      },
      "execution_count": null,
      "outputs": [
        {
          "output_type": "display_data",
          "data": {
            "text/plain": [
              "<Figure size 640x480 with 1 Axes>"
            ],
            "image/png": "[encoded data removed]"
          },
          "metadata": {}
        }
      ]
    },
    {
      "cell_type": "markdown",
      "source": [
        "# 2. Ventas por categoría"
      ],
      "metadata": {
        "id": "2V_vcAPzWZmR"
      }
    },
    {
      "cell_type": "code",
      "source": [
        "print(\"Tienda 1\")\n",
        "categoria_mas_vendida = tienda[\"Categoría del Producto\"].value_counts().head(3)\n",
        "print(categoria_mas_vendida)\n",
        "\n",
        "print(\"Tienda 2\")\n",
        "categoria_mas_vendida2 = tienda2[\"Categoría del Producto\"].value_counts().head(3)\n",
        "print(categoria_mas_vendida2)\n",
        "\n",
        "print(\"Tienda 2\")\n",
        "categoria_mas_vendida3 = tienda3[\"Categoría del Producto\"].value_counts().head(3)\n",
        "print(categoria_mas_vendida3)\n",
        "\n",
        "print(\"Tienda 4\")\n",
        "categoria_mas_vendida4 = tienda4[\"Categoría del Producto\"].value_counts().head(3)\n",
        "print(categoria_mas_vendida4)"
      ],
      "metadata": {
        "id": "A34YupIuYhfF",
        "colab": {
          "base_uri": "https://localhost:8080/"
        },
        "outputId": "872d7022-0559-4c2e-e8fd-1bacd3ff9345"
      },
      "execution_count": null,
      "outputs": [
        {
          "output_type": "stream",
          "name": "stdout",
          "text": [
            "Tienda 1\n",
            "Categoría del Producto\n",
            "Muebles         465\n",
            "Electrónicos    448\n",
            "Juguetes        324\n",
            "Name: count, dtype: int64\n",
            "Tienda 2\n",
            "Categoría del Producto\n",
            "Muebles         442\n",
            "Electrónicos    422\n",
            "Juguetes        313\n",
            "Name: count, dtype: int64\n",
            "Tienda 2\n",
            "Categoría del Producto\n",
            "Muebles         499\n",
            "Electrónicos    451\n",
            "Juguetes        315\n",
            "Name: count, dtype: int64\n",
            "Tienda 4\n",
            "Categoría del Producto\n",
            "Muebles         480\n",
            "Electrónicos    451\n",
            "Juguetes        338\n",
            "Name: count, dtype: int64\n"
          ]
        }
      ]
    },
    {
      "cell_type": "code",
      "source": [
        "tiendas = [\"Tienda 1\",\"Tienda 2\",\"Tienda 3\",\"Tienda 4\"]\n",
        "categorias_mas_vendidas = [categoria_mas_vendida,categoria_mas_vendida2,categoria_mas_vendida3,categoria_mas_vendida4]\n",
        "\n",
        "categorias_t1 = categoria_mas_vendida\n",
        "categorias_t2 = categoria_mas_vendida2\n",
        "categorias_t3 = categoria_mas_vendida3\n",
        "categorias_t4 = categoria_mas_vendida4\n",
        "\n",
        "# Agrupamos en una lista para recorrerlas\n",
        "categorias_por_tienda = [categorias_t1, categorias_t2, categorias_t3, categorias_t4]\n",
        "\n",
        "# Obtener todas las categorías (pueden repetirse entre tiendas)\n",
        "todas_las_categorias = list(set(categorias_t1.index.tolist() +\n",
        "                                 categorias_t2.index.tolist() +\n",
        "                                 categorias_t3.index.tolist() +\n",
        "                                 categorias_t4.index.tolist()))\n",
        "\n",
        "# Orden para graficar\n",
        "x = np.arange(len(tiendas))  # posiciones de las tiendas\n",
        "width = 0.2  # ancho de cada barra\n",
        "\n",
        "# Crear gráfico\n",
        "plt.figure(figsize=(12, 6))\n",
        "\n",
        "# Para cada categoría (máximo 3), graficamos sus valores en cada tienda\n",
        "for i in range(3):  # solo las 3 primeras\n",
        "    valores = []\n",
        "    etiquetas = []\n",
        "    for tienda_categorias in categorias_por_tienda:\n",
        "        # Asegura que haya al menos i categorías\n",
        "        if i < len(tienda_categorias):\n",
        "            valores.append(tienda_categorias.values[i])\n",
        "            etiquetas.append(tienda_categorias.index[i])\n",
        "        else:\n",
        "            valores.append(0)\n",
        "            etiquetas.append(\"\")\n",
        "\n",
        "    plt.bar(x + i * width, valores, width=width, label=f\"{etiquetas[0] if etiquetas[0] else f'Categoría {i+1}'}\")\n",
        "\n",
        "# Ajustes del gráfico\n",
        "plt.xticks(x + width, tiendas)\n",
        "plt.ylabel(\"Cantidad de Ventas\")\n",
        "plt.title(\"Top 3 Categorías Más Vendidas por Tienda\")\n",
        "plt.legend(title=\"Categorías\")\n",
        "plt.tight_layout()\n",
        "plt.show()"
      ],
      "metadata": {
        "id": "yZR6cOjXYSk1",
        "colab": {
          "base_uri": "https://localhost:8080/",
          "height": 562
        },
        "outputId": "75e06d93-d526-4b57-df0c-88038f235a94"
      },
      "execution_count": null,
      "outputs": [
        {
          "output_type": "display_data",
          "data": {
            "text/plain": [
              "<Figure size 1200x600 with 1 Axes>"
            ],
            "image/png": "[encoded data removed]"
          },
          "metadata": {}
        }
      ]
    },
    {
      "cell_type": "markdown",
      "source": [
        "# 3. Calificación promedio de la tienda\n"
      ],
      "metadata": {
        "id": "Rq6tU_xSY3jk"
      }
    },
    {
      "cell_type": "code",
      "source": [
        "print(\"Tienda 1\")\n",
        "promedio_producto_tienda1 = np.average((tienda.Calificación))\n",
        "print(promedio_producto_tienda1)\n",
        "\n",
        "print(\"Tienda 2\")\n",
        "promedio_producto_tienda2 = np.average((tienda2.Calificación))\n",
        "print(promedio_producto_tienda2)\n",
        "\n",
        "print(\"Tienda 3\")\n",
        "promedio_producto_tienda3 = np.average((tienda3.Calificación))\n",
        "print(promedio_producto_tienda3)\n",
        "\n",
        "print(\"Tienda 4\")\n",
        "promedio_producto_tienda4 = np.average((tienda4.Calificación))\n",
        "print(promedio_producto_tienda4)"
      ],
      "metadata": {
        "id": "bh3jjjJwY5MU",
        "colab": {
          "base_uri": "https://localhost:8080/"
        },
        "outputId": "ebe665b3-719f-4321-deb4-cfafc35e24bf"
      },
      "execution_count": null,
      "outputs": [
        {
          "output_type": "stream",
          "name": "stdout",
          "text": [
            "Tienda 1\n",
            "3.976685036032217\n",
            "Tienda 2\n",
            "4.037303942348453\n",
            "Tienda 3\n",
            "4.048325561678677\n",
            "Tienda 4\n",
            "3.9957591178965224\n"
          ]
        }
      ]
    },
    {
      "cell_type": "code",
      "source": [
        "tiendas = [\"Tienda 1\",\"Tienda 2\",\"Tienda 3\",\"Tienda 4\"]\n",
        "promedios = [promedio_producto_tienda1,promedio_producto_tienda2,promedio_producto_tienda3,promedio_producto_tienda4]\n",
        "colors = [\"red\",\"green\",\"blue\",\"yellow\"]\n",
        "\n",
        "plt.bar(tiendas,promedios,color=colors)\n",
        "plt.show()"
      ],
      "metadata": {
        "id": "I0KkjPoTY88F",
        "colab": {
          "base_uri": "https://localhost:8080/",
          "height": 430
        },
        "outputId": "fef34ff7-186e-4076-9e16-8bccfc80fa4f"
      },
      "execution_count": null,
      "outputs": [
        {
          "output_type": "display_data",
          "data": {
            "text/plain": [
              "<Figure size 640x480 with 1 Axes>"
            ],
            "image/png": "[encoded data removed]"
          },
          "metadata": {}
        }
      ]
    },
    {
      "cell_type": "markdown",
      "source": [
        "# 4. Productos más y menos vendidos"
      ],
      "metadata": {
        "id": "DmNp1KPBZCm-"
      }
    },
    {
      "cell_type": "code",
      "source": [
        "print(\"Tienda 1\")\n",
        "producto_counts = tienda[\"Producto\"].value_counts()\n",
        "\n",
        "# El producto más vendido es el primero en la serie de value_counts()\n",
        "producto_mas_vendido = producto_counts.index[0]\n",
        "cantidad_mas_vendido = producto_counts.values[0]\n",
        "\n",
        "# El producto menos vendido es el último en la serie de value_counts()\n",
        "producto_menos_vendido = producto_counts.index[-1]\n",
        "cantidad_menos_vendido = producto_counts.values[-1]\n",
        "\n",
        "\n",
        "print(f\"Producto más vendido: {producto_mas_vendido} (Cantidad: {cantidad_mas_vendido})\")\n",
        "print(f\"Producto menos vendido: {producto_menos_vendido} (Cantidad: {cantidad_menos_vendido})\")\n",
        "\n",
        "\n",
        "print(\"Tienda 2\")\n",
        "producto2_counts = tienda2[\"Producto\"].value_counts()\n",
        "\n",
        "# El producto más vendido es el primero en la serie de value_counts()\n",
        "producto_mas_vendido2 = producto2_counts.index[0]\n",
        "cantidad_mas_vendido2 = producto2_counts.values[0]\n",
        "\n",
        "# El producto menos vendido es el último en la serie de value_counts()\n",
        "producto_menos_vendido2 = producto2_counts.index[-1]\n",
        "cantidad_menos_vendido2 = producto2_counts.values[-1]\n",
        "\n",
        "\n",
        "print(f\"Producto más vendido: {producto_mas_vendido2} (Cantidad: {cantidad_mas_vendido2})\")\n",
        "print(f\"Producto menos vendido: {producto_menos_vendido2} (Cantidad: {cantidad_menos_vendido2})\")\n",
        "\n",
        "\n",
        "print(\"Tienda 3\")\n",
        "producto3_counts = tienda3[\"Producto\"].value_counts()\n",
        "\n",
        "# El producto más vendido es el primero en la serie de value_counts()\n",
        "producto_mas_vendido3 = producto3_counts.index[0]\n",
        "cantidad_mas_vendido3 = producto3_counts.values[0]\n",
        "\n",
        "# El producto menos vendido es el último en la serie de value_counts()\n",
        "producto_menos_vendido3 = producto3_counts.index[-1]\n",
        "cantidad_menos_vendido3 = producto3_counts.values[-1]\n",
        "\n",
        "\n",
        "print(f\"Producto más vendido: {producto_mas_vendido3} (Cantidad: {cantidad_mas_vendido3})\")\n",
        "print(f\"Producto menos vendido: {producto_menos_vendido3} (Cantidad: {cantidad_menos_vendido3})\")\n",
        "\n",
        "print(\"Tienda 4\")\n",
        "producto4_counts = tienda4[\"Producto\"].value_counts()\n",
        "\n",
        "# El producto más vendido es el primero en la serie de value_counts()\n",
        "producto_mas_vendido4 = producto4_counts.index[0]\n",
        "cantidad_mas_vendido4 = producto4_counts.values[0]\n",
        "\n",
        "# El producto menos vendido es el último en la serie de value_counts()\n",
        "producto_menos_vendido4 = producto4_counts.index[-1]\n",
        "cantidad_menos_vendido4 = producto4_counts.values[-1]\n",
        "\n",
        "\n",
        "print(f\"Producto más vendido: {producto_mas_vendido4} (Cantidad: {cantidad_mas_vendido4})\")\n",
        "print(f\"Producto menos vendido: {producto_menos_vendido4} (Cantidad: {cantidad_menos_vendido4})\")"
      ],
      "metadata": {
        "id": "qoyjqijQZHfF",
        "colab": {
          "base_uri": "https://localhost:8080/"
        },
        "outputId": "83a5cf3b-0bf2-4b76-b7ab-bdabe3b1f1e3"
      },
      "execution_count": null,
      "outputs": [
        {
          "output_type": "stream",
          "name": "stdout",
          "text": [
            "Tienda 1\n",
            "Producto más vendido: Microondas (Cantidad: 60)\n",
            "Producto menos vendido: Celular ABXY (Cantidad: 33)\n",
            "Tienda 2\n",
            "Producto más vendido: Iniciando en programación (Cantidad: 65)\n",
            "Producto menos vendido: Juego de mesa (Cantidad: 32)\n",
            "Tienda 3\n",
            "Producto más vendido: Kit de bancas (Cantidad: 57)\n",
            "Producto menos vendido: Bloques de construcción (Cantidad: 35)\n",
            "Tienda 4\n",
            "Producto más vendido: Cama box (Cantidad: 62)\n",
            "Producto menos vendido: Guitarra eléctrica (Cantidad: 33)\n"
          ]
        }
      ]
    },
    {
      "cell_type": "code",
      "source": [],
      "metadata": {
        "id": "0Sw3sd4IZIGW"
      },
      "execution_count": null,
      "outputs": []
    },
    {
      "cell_type": "markdown",
      "source": [
        "# 5. Envío promedio por tienda"
      ],
      "metadata": {
        "id": "Fl0cGi3bZKqU"
      }
    },
    {
      "cell_type": "code",
      "source": [
        "print(\"Tienda 1\")\n",
        "promedio_envio_tienda1 = np.average((tienda['Costo de envío']))\n",
        "print(promedio_envio_tienda1)\n",
        "\n",
        "print(\"Tienda 2\")\n",
        "promedio_envio_tienda2 = np.average((tienda2['Costo de envío']))\n",
        "print(promedio_envio_tienda2)\n",
        "\n",
        "print(\"Tienda 3\")\n",
        "promedio_envio_tienda3 = np.average((tienda3['Costo de envío']))\n",
        "print(promedio_envio_tienda3)\n",
        "\n",
        "print(\"Tienda 4\")\n",
        "promedio_envio_tienda4 = np.average((tienda4['Costo de envío']))\n",
        "print(promedio_envio_tienda4)"
      ],
      "metadata": {
        "id": "S2JeaCykZNy9",
        "colab": {
          "base_uri": "https://localhost:8080/"
        },
        "outputId": "fbb0945a-b500-4473-cf9a-789def79daeb"
      },
      "execution_count": null,
      "outputs": [
        {
          "output_type": "stream",
          "name": "stdout",
          "text": [
            "Tienda 1\n",
            "26018.60958033065\n",
            "Tienda 2\n",
            "25216.235693090293\n",
            "Tienda 3\n",
            "24805.680373039424\n",
            "Tienda 4\n",
            "23459.457167090754\n"
          ]
        }
      ]
    },
    {
      "cell_type": "markdown",
      "source": [
        "El proposito de este analisis es analizar diferentes metricas y/o factores que ayuden a tomar la desicion sobre que tienda debe ser vendida de acuerdo a los ingresos totales, las categorias de los productos más y menos vendidas, el promedio de las calificaciones de cada venta, que producto es el más y el menos vendido y el coste de envio de cada una de ella.\n",
        "\n",
        "Luego de realizar el analisis de cada una de las tiendas podemos observar que la tienda N°4 es la que menor ingreso genera con 23.6% en comparacion a las demás, posee una calificación promedio inferior a las demás y similar a la tienda N°1 y es la que posee menor cantidad de promedio por envio significando que no se venden los suficientes productos para que esta sea superior.\n",
        "\n",
        "Por lo cual, como conclusión luego de este analisis podemos concluir que se debe de vender la tienda N°4."
      ],
      "metadata": {
        "id": "DRm_IW44m4r6"
      }
    },
    {
      "cell_type": "code",
      "source": [],
      "metadata": {
        "id": "0tSdCie9ZQlt"
      },
      "execution_count": null,
      "outputs": []
    }
  ]
}